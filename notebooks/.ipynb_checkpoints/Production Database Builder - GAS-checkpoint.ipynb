{
 "cells": [
  {
   "cell_type": "code",
   "execution_count": 1,
   "metadata": {
    "collapsed": false
   },
   "outputs": [],
   "source": [
    "import pandas as pd\n",
    "import datetime\n",
    "import numpy as np"
   ]
  },
  {
   "cell_type": "markdown",
   "metadata": {},
   "source": [
    "## Loading Production Data from 1987 to 2008\n",
    "\n",
    "The production data from these years follows the same file format.\n",
    "\n",
    "We can therefore import using the same format and put the dataframes into a dictionary.\n",
    "\n",
    "In 1990 we manually fix well API No: 21451, DUCKETT \"A\" and set it's well number to 1 as unspecified.\n",
    "Same in 1991."
   ]
  },
  {
   "cell_type": "code",
   "execution_count": 2,
   "metadata": {
    "collapsed": false
   },
   "outputs": [
    {
     "name": "stdout",
     "output_type": "stream",
     "text": [
      "1987\n",
      "1988\n",
      "1989\n"
     ]
    },
    {
     "name": "stderr",
     "output_type": "stream",
     "text": [
      "E:\\Anaconda3\\lib\\site-packages\\IPython\\core\\interactiveshell.py:2717: DtypeWarning: Columns (0,1,5,6,9,16,17,18,19,20,21,28,30,32,33,36,39,42,45,48,51,54,57,60,63,66) have mixed types. Specify dtype option on import or set low_memory=False.\n",
      "  interactivity=interactivity, compiler=compiler, result=result)\n"
     ]
    },
    {
     "name": "stdout",
     "output_type": "stream",
     "text": [
      "1990\n",
      "1991\n",
      "1992\n",
      "1993\n",
      "1995\n",
      "1996\n",
      "1997\n",
      "1998\n",
      "1999\n",
      "2000\n",
      "2001\n",
      "2002\n",
      "2003\n",
      "2004\n"
     ]
    },
    {
     "name": "stderr",
     "output_type": "stream",
     "text": [
      "E:\\Anaconda3\\lib\\site-packages\\IPython\\core\\interactiveshell.py:2717: DtypeWarning: Columns (0,1,5,8,15,16,17,18,19,20,27,29,30,33,36,39) have mixed types. Specify dtype option on import or set low_memory=False.\n",
      "  interactivity=interactivity, compiler=compiler, result=result)\n"
     ]
    },
    {
     "name": "stdout",
     "output_type": "stream",
     "text": [
      "2005\n"
     ]
    },
    {
     "name": "stderr",
     "output_type": "stream",
     "text": [
      "E:\\Anaconda3\\lib\\site-packages\\IPython\\core\\interactiveshell.py:2717: DtypeWarning: Columns (0,1,5,8,15,16,17,18,19,20,27,29,30) have mixed types. Specify dtype option on import or set low_memory=False.\n",
      "  interactivity=interactivity, compiler=compiler, result=result)\n"
     ]
    },
    {
     "name": "stdout",
     "output_type": "stream",
     "text": [
      "2006\n",
      "2007\n"
     ]
    },
    {
     "name": "stderr",
     "output_type": "stream",
     "text": [
      "E:\\Anaconda3\\lib\\site-packages\\IPython\\core\\interactiveshell.py:2717: DtypeWarning: Columns (0,1,5,8,15,16,17,18,19,20,27,29,30,33,36) have mixed types. Specify dtype option on import or set low_memory=False.\n",
      "  interactivity=interactivity, compiler=compiler, result=result)\n"
     ]
    },
    {
     "name": "stdout",
     "output_type": "stream",
     "text": [
      "2008\n",
      "2009\n",
      "2010\n",
      "2011\n",
      "2012\n",
      "2013\n",
      "2014\n",
      "2015\n"
     ]
    },
    {
     "data": {
      "text/html": [
       "<div>\n",
       "<table border=\"1\" class=\"dataframe\">\n",
       "  <thead>\n",
       "    <tr style=\"text-align: right;\">\n",
       "      <th></th>\n",
       "      <th>API_COUNTY</th>\n",
       "      <th>API_NUMBER</th>\n",
       "      <th>S</th>\n",
       "      <th>WELL_NAME</th>\n",
       "      <th>WELL_NO</th>\n",
       "      <th>OPER_NO</th>\n",
       "      <th>OPERATOR</th>\n",
       "      <th>ME</th>\n",
       "      <th>SECTION</th>\n",
       "      <th>TWP</th>\n",
       "      <th>...</th>\n",
       "      <th>GAS.8</th>\n",
       "      <th>OCT</th>\n",
       "      <th>OIL.9</th>\n",
       "      <th>GAS.9</th>\n",
       "      <th>NOV</th>\n",
       "      <th>OIL.10</th>\n",
       "      <th>GAS.10</th>\n",
       "      <th>DEC</th>\n",
       "      <th>OIL.11</th>\n",
       "      <th>GAS.11</th>\n",
       "    </tr>\n",
       "  </thead>\n",
       "  <tbody>\n",
       "    <tr>\n",
       "      <th>0</th>\n",
       "      <td>3</td>\n",
       "      <td>1</td>\n",
       "      <td>NaN</td>\n",
       "      <td>KIRCHER</td>\n",
       "      <td>1</td>\n",
       "      <td>4030</td>\n",
       "      <td>CHAMPLIN EXPLORATION INC</td>\n",
       "      <td>INDIAN</td>\n",
       "      <td>4</td>\n",
       "      <td>27N</td>\n",
       "      <td>...</td>\n",
       "      <td>NaN</td>\n",
       "      <td>10</td>\n",
       "      <td>NaN</td>\n",
       "      <td>NaN</td>\n",
       "      <td>11</td>\n",
       "      <td>NaN</td>\n",
       "      <td>NaN</td>\n",
       "      <td>12</td>\n",
       "      <td>NaN</td>\n",
       "      <td>NaN</td>\n",
       "    </tr>\n",
       "    <tr>\n",
       "      <th>1</th>\n",
       "      <td>3</td>\n",
       "      <td>25</td>\n",
       "      <td>NaN</td>\n",
       "      <td>HAGUE</td>\n",
       "      <td>1</td>\n",
       "      <td>19694</td>\n",
       "      <td>BVD INC</td>\n",
       "      <td>Indian</td>\n",
       "      <td>22</td>\n",
       "      <td>27N</td>\n",
       "      <td>...</td>\n",
       "      <td>31.0</td>\n",
       "      <td>10</td>\n",
       "      <td>NaN</td>\n",
       "      <td>39.0</td>\n",
       "      <td>11</td>\n",
       "      <td>NaN</td>\n",
       "      <td>37.0</td>\n",
       "      <td>12</td>\n",
       "      <td>NaN</td>\n",
       "      <td>45.0</td>\n",
       "    </tr>\n",
       "    <tr>\n",
       "      <th>2</th>\n",
       "      <td>3</td>\n",
       "      <td>68</td>\n",
       "      <td>NaN</td>\n",
       "      <td>ADAMS   \"A\"</td>\n",
       "      <td>1-3</td>\n",
       "      <td>17441</td>\n",
       "      <td>CHESAPEAKE OPERATING LLC</td>\n",
       "      <td>Indian</td>\n",
       "      <td>3</td>\n",
       "      <td>25N</td>\n",
       "      <td>...</td>\n",
       "      <td>0.0</td>\n",
       "      <td>10</td>\n",
       "      <td>NaN</td>\n",
       "      <td>0.0</td>\n",
       "      <td>11</td>\n",
       "      <td>NaN</td>\n",
       "      <td>0.0</td>\n",
       "      <td>12</td>\n",
       "      <td>NaN</td>\n",
       "      <td>NaN</td>\n",
       "    </tr>\n",
       "    <tr>\n",
       "      <th>3</th>\n",
       "      <td>3</td>\n",
       "      <td>71</td>\n",
       "      <td>NaN</td>\n",
       "      <td>NEWLIN</td>\n",
       "      <td>1</td>\n",
       "      <td>7775</td>\n",
       "      <td>COMBINED RESOURCES CORPORATION</td>\n",
       "      <td>Indian</td>\n",
       "      <td>19</td>\n",
       "      <td>25N</td>\n",
       "      <td>...</td>\n",
       "      <td>1089.0</td>\n",
       "      <td>10</td>\n",
       "      <td>NaN</td>\n",
       "      <td>1089.0</td>\n",
       "      <td>11</td>\n",
       "      <td>NaN</td>\n",
       "      <td>873.0</td>\n",
       "      <td>12</td>\n",
       "      <td>NaN</td>\n",
       "      <td>512.0</td>\n",
       "    </tr>\n",
       "    <tr>\n",
       "      <th>4</th>\n",
       "      <td>3</td>\n",
       "      <td>73</td>\n",
       "      <td>NaN</td>\n",
       "      <td>WOODWARD (VOSS)</td>\n",
       "      <td>1</td>\n",
       "      <td>11739</td>\n",
       "      <td>MACK ENERGY CO</td>\n",
       "      <td>Indian</td>\n",
       "      <td>25</td>\n",
       "      <td>24N</td>\n",
       "      <td>...</td>\n",
       "      <td>608.0</td>\n",
       "      <td>10</td>\n",
       "      <td>NaN</td>\n",
       "      <td>468.0</td>\n",
       "      <td>11</td>\n",
       "      <td>NaN</td>\n",
       "      <td>344.0</td>\n",
       "      <td>12</td>\n",
       "      <td>NaN</td>\n",
       "      <td>857.0</td>\n",
       "    </tr>\n",
       "  </tbody>\n",
       "</table>\n",
       "<p>5 rows × 66 columns</p>\n",
       "</div>"
      ],
      "text/plain": [
       "   API_COUNTY  API_NUMBER   S                       WELL_NAME WELL_NO  \\\n",
       "0           3           1 NaN  KIRCHER                              1   \n",
       "1           3          25 NaN  HAGUE                                1   \n",
       "2           3          68 NaN  ADAMS   \"A\"                     1-3      \n",
       "3           3          71 NaN  NEWLIN                               1   \n",
       "4           3          73 NaN  WOODWARD (VOSS)                      1   \n",
       "\n",
       "   OPER_NO                        OPERATOR      ME  SECTION  TWP   ...    \\\n",
       "0     4030        CHAMPLIN EXPLORATION INC  INDIAN        4  27N   ...     \n",
       "1    19694                         BVD INC  Indian       22  27N   ...     \n",
       "2    17441        CHESAPEAKE OPERATING LLC  Indian        3  25N   ...     \n",
       "3     7775  COMBINED RESOURCES CORPORATION  Indian       19  25N   ...     \n",
       "4    11739                  MACK ENERGY CO  Indian       25  24N   ...     \n",
       "\n",
       "    GAS.8 OCT OIL.9   GAS.9 NOV  OIL.10  GAS.10  DEC  OIL.11  GAS.11  \n",
       "0     NaN  10   NaN     NaN  11     NaN     NaN   12     NaN     NaN  \n",
       "1    31.0  10   NaN    39.0  11     NaN    37.0   12     NaN    45.0  \n",
       "2     0.0  10   NaN     0.0  11     NaN     0.0   12     NaN     NaN  \n",
       "3  1089.0  10   NaN  1089.0  11     NaN   873.0   12     NaN   512.0  \n",
       "4   608.0  10   NaN   468.0  11     NaN   344.0   12     NaN   857.0  \n",
       "\n",
       "[5 rows x 66 columns]"
      ]
     },
     "execution_count": 2,
     "metadata": {},
     "output_type": "execute_result"
    }
   ],
   "source": [
    "dates_cols_oil = [\"OIL.\"+str(i) for i in range(0, 12, 1)]\n",
    "dates_cols_gas = [\"GAS.\"+str(i)  for i in range(0, 12, 1)]\n",
    "dates_cols = dates_cols_oil + dates_cols_gas\n",
    "headers_old_2003 = ['API_COUNTY', 'API_NUMBER', 'SUFFIX', 'WELL_NAME','WELL_NO', '  OPER_NO', 'OPER_SUFFIX',\n",
    "       'OPERATOR', 'ME', 'SECTION', 'TWP','RAN', 'Q4', 'Q3', 'Q2', 'Q1', 'LATITUDE', 'LONGITUDE', 'OTC_COUNTY',\n",
    "           'OTC_LEASE_NO', 'OTC_SUB_NO', 'OTC_MERGE', 'POOL_NO', 'CODE','FORMATION', 'OFB', 'ALLOWABLE_CLASS',\n",
    "       'ALLOWABLE_TYPE', ' PURCH_NO',\n",
    "       'PURCHASER', 'PURCH_SUFFIX', 'OFB.1',\n",
    "       'YEAR', 'JAN', 'OIL.0', 'GAS.0', 'FEB',\n",
    "       'OIL.1', 'GAS.1', 'MAR', 'OIL.2', 'GAS.2',\n",
    "       'APR', 'OIL.3', 'GAS.3', 'MAY', 'OIL.4',\n",
    "       'GAS.4', 'JUN', 'OIL.5', 'GAS.5', 'JUL',\n",
    "       'OIL.6', 'GAS.6', 'AUG', 'OIL.7', 'GAS.7',\n",
    "       'SEP', 'OIL.8', 'GAS.8', 'OCT', 'OIL.9',\n",
    "       'GAS.9', 'NOV', 'OIL.10', 'GAS.10', 'DEC',\n",
    "       'OIL.11', 'GAS.11']\n",
    "headers_new_2004 = ['API_COUNTY', 'API_NUMBER', 'S', 'WELL_NAME','WELL_NO', '  OPER_NO',\n",
    "       'OPERATOR', 'ME', 'SECTION', 'TWP','RAN', 'Q4', 'Q3', 'Q2', 'Q1', 'LATITUDE', 'LONGITUDE', 'OTC_COUNTY',\n",
    "           'OTC_LEASE_NO', 'OTC_SUB_NO', 'OTC_MERGE', 'POOL_NO', 'CODE','FORMATION','ALLOWABLE_CLASS',\n",
    "       'ALLOWABLE_TYPE', ' PURCH_NO',\n",
    "       'PURCHASER', 'OFB.1',\n",
    "       'YEAR', 'JAN', 'OIL.0', 'GAS.0', 'FEB',\n",
    "       'OIL.1', 'GAS.1', 'MAR', 'OIL.2', 'GAS.2',\n",
    "       'APR', 'OIL.3', 'GAS.3', 'MAY', 'OIL.4',\n",
    "       'GAS.4', 'JUN', 'OIL.5', 'GAS.5', 'JUL',\n",
    "       'OIL.6', 'GAS.6', 'AUG', 'OIL.7', 'GAS.7',\n",
    "       'SEP', 'OIL.8', 'GAS.8', 'OCT', 'OIL.9',\n",
    "       'GAS.9', 'NOV', 'OIL.10', 'GAS.10', 'DEC',\n",
    "       'OIL.11', 'GAS.11']\n",
    "df_in = None\n",
    "production_data = {}\n",
    "for i in range(1987, 2016, 1):\n",
    "    dates_oil = [ \"OIL_\"+str(datetime.date(i, j+1, 1)) for j in range(0, 12, 1)]\n",
    "    dates_gas = [ \"GAS_\"+str(datetime.date(i, j+1, 1)) for j in range(0, 12, 1)]\n",
    "    renamed_oil = {old: new for old, new in zip(dates_cols_oil, dates_oil)}\n",
    "    renamed_gas = {old: new for old, new in zip(dates_cols_gas, dates_gas)}\n",
    "    renamed_cols = {**renamed_oil, **renamed_gas}\n",
    "    if i != 1994: #No Data from 1994\n",
    "        print(i)\n",
    "        if i <= 2008:\n",
    "            df = None\n",
    "            if i < 2004:\n",
    "                df = pd.read_csv(\"../raw/\"+str(i)+\"prodn.txt\", delimiter=\"|\", skiprows=[0, 2], names=headers_old_2003)\n",
    "            else:\n",
    "                df = pd.read_csv(\"../raw/\"+str(i)+\"prodn.txt\", delimiter=\"|\", skiprows=[0, 2], names=headers_new_2004)\n",
    "            df_in = df.copy()\n",
    "            df.rename(index=str, columns=renamed_cols, inplace=True)\n",
    "            df = df.drop(['YEAR','JAN', 'FEB', 'MAR', 'APR', 'MAY', 'JUN', 'JUL','AUG', 'SEP', 'OCT', 'NOV', 'DEC'], axis=1)\n",
    "            production_data[i] = df\n",
    "        else:\n",
    "            df = pd.read_csv(\"../raw/\"+str(i)+\"prodn.txt\", delimiter=\"|\")\n",
    "            df[[\"API_COUNTY\", \"API_NUMBER\"]].apply(lambda x: pd.to_numeric(x, errors='coerce',downcast='integer'))\n",
    "            df_in = df.copy()\n",
    "            df.rename(renamed_cols)\n",
    "            production_data[i] = df\n",
    "df_in.head()"
   ]
  },
  {
   "cell_type": "code",
   "execution_count": 3,
   "metadata": {
    "collapsed": true
   },
   "outputs": [],
   "source": [
    "def filter_data(row):\n",
    "    buffer = []\n",
    "    for val in row:\n",
    "        val_parsed = None\n",
    "        try:\n",
    "            val_parsed = int(val)\n",
    "        except ValueError:\n",
    "            val_parsed = 0\n",
    "        buffer.append(val_parsed)\n",
    "    return np.array(buffer, dtype=np.int32)"
   ]
  },
  {
   "cell_type": "code",
   "execution_count": 4,
   "metadata": {
    "collapsed": false
   },
   "outputs": [
    {
     "name": "stdout",
     "output_type": "stream",
     "text": [
      "1987\n",
      "1988\n",
      "1989\n",
      "1990\n",
      "1991\n",
      "1992\n",
      "1993\n",
      "1994\n",
      "1995\n",
      "1996\n",
      "1997\n",
      "1998\n",
      "1999\n",
      "2000\n",
      "2001\n",
      "2002\n",
      "2003\n",
      "2004\n",
      "2005\n",
      "2006\n",
      "2007\n",
      "2008\n",
      "2009\n",
      "2010\n",
      "2011\n",
      "2012\n",
      "2013\n",
      "2014\n",
      "2015\n"
     ]
    },
    {
     "data": {
      "text/html": [
       "<div>\n",
       "<table border=\"1\" class=\"dataframe\">\n",
       "  <thead>\n",
       "    <tr style=\"text-align: right;\">\n",
       "      <th></th>\n",
       "      <th>1</th>\n",
       "      <th>2</th>\n",
       "      <th>3</th>\n",
       "      <th>4</th>\n",
       "      <th>5</th>\n",
       "      <th>6</th>\n",
       "      <th>8</th>\n",
       "      <th>9</th>\n",
       "      <th>10</th>\n",
       "      <th>11</th>\n",
       "      <th>...</th>\n",
       "      <th>60118</th>\n",
       "      <th>60119</th>\n",
       "      <th>60120</th>\n",
       "      <th>60123</th>\n",
       "      <th>60124</th>\n",
       "      <th>60125</th>\n",
       "      <th>60133</th>\n",
       "      <th>60142</th>\n",
       "      <th>60143</th>\n",
       "      <th>76639</th>\n",
       "    </tr>\n",
       "  </thead>\n",
       "  <tbody>\n",
       "    <tr>\n",
       "      <th>2015-01-31</th>\n",
       "      <td>594</td>\n",
       "      <td>0</td>\n",
       "      <td>2115</td>\n",
       "      <td>0</td>\n",
       "      <td>1631</td>\n",
       "      <td>0</td>\n",
       "      <td>4113</td>\n",
       "      <td>1276</td>\n",
       "      <td>2837</td>\n",
       "      <td>18</td>\n",
       "      <td>...</td>\n",
       "      <td>374</td>\n",
       "      <td>590</td>\n",
       "      <td>230</td>\n",
       "      <td>437</td>\n",
       "      <td>1164</td>\n",
       "      <td>632</td>\n",
       "      <td>363</td>\n",
       "      <td>887</td>\n",
       "      <td>718</td>\n",
       "      <td>39</td>\n",
       "    </tr>\n",
       "    <tr>\n",
       "      <th>2015-02-28</th>\n",
       "      <td>585</td>\n",
       "      <td>0</td>\n",
       "      <td>1604</td>\n",
       "      <td>0</td>\n",
       "      <td>1425</td>\n",
       "      <td>0</td>\n",
       "      <td>3795</td>\n",
       "      <td>1112</td>\n",
       "      <td>2175</td>\n",
       "      <td>28</td>\n",
       "      <td>...</td>\n",
       "      <td>607</td>\n",
       "      <td>465</td>\n",
       "      <td>203</td>\n",
       "      <td>454</td>\n",
       "      <td>1077</td>\n",
       "      <td>539</td>\n",
       "      <td>320</td>\n",
       "      <td>798</td>\n",
       "      <td>595</td>\n",
       "      <td>64</td>\n",
       "    </tr>\n",
       "    <tr>\n",
       "      <th>2015-03-31</th>\n",
       "      <td>655</td>\n",
       "      <td>0</td>\n",
       "      <td>1563</td>\n",
       "      <td>0</td>\n",
       "      <td>1487</td>\n",
       "      <td>0</td>\n",
       "      <td>4121</td>\n",
       "      <td>869</td>\n",
       "      <td>2479</td>\n",
       "      <td>28</td>\n",
       "      <td>...</td>\n",
       "      <td>391</td>\n",
       "      <td>463</td>\n",
       "      <td>222</td>\n",
       "      <td>525</td>\n",
       "      <td>1315</td>\n",
       "      <td>626</td>\n",
       "      <td>406</td>\n",
       "      <td>1956</td>\n",
       "      <td>689</td>\n",
       "      <td>92</td>\n",
       "    </tr>\n",
       "    <tr>\n",
       "      <th>2015-04-30</th>\n",
       "      <td>604</td>\n",
       "      <td>0</td>\n",
       "      <td>1847</td>\n",
       "      <td>0</td>\n",
       "      <td>1493</td>\n",
       "      <td>0</td>\n",
       "      <td>4043</td>\n",
       "      <td>812</td>\n",
       "      <td>2130</td>\n",
       "      <td>13</td>\n",
       "      <td>...</td>\n",
       "      <td>352</td>\n",
       "      <td>453</td>\n",
       "      <td>221</td>\n",
       "      <td>486</td>\n",
       "      <td>1234</td>\n",
       "      <td>952</td>\n",
       "      <td>313</td>\n",
       "      <td>876</td>\n",
       "      <td>757</td>\n",
       "      <td>85</td>\n",
       "    </tr>\n",
       "    <tr>\n",
       "      <th>2015-05-31</th>\n",
       "      <td>637</td>\n",
       "      <td>0</td>\n",
       "      <td>1680</td>\n",
       "      <td>0</td>\n",
       "      <td>1522</td>\n",
       "      <td>862</td>\n",
       "      <td>4161</td>\n",
       "      <td>989</td>\n",
       "      <td>2479</td>\n",
       "      <td>46</td>\n",
       "      <td>...</td>\n",
       "      <td>518</td>\n",
       "      <td>529</td>\n",
       "      <td>246</td>\n",
       "      <td>437</td>\n",
       "      <td>1181</td>\n",
       "      <td>905</td>\n",
       "      <td>205</td>\n",
       "      <td>837</td>\n",
       "      <td>672</td>\n",
       "      <td>92</td>\n",
       "    </tr>\n",
       "  </tbody>\n",
       "</table>\n",
       "<p>5 rows × 10236 columns</p>\n",
       "</div>"
      ],
      "text/plain": [
       "            1      2      3      4      5      6      8      9      10     \\\n",
       "2015-01-31    594      0   2115      0   1631      0   4113   1276   2837   \n",
       "2015-02-28    585      0   1604      0   1425      0   3795   1112   2175   \n",
       "2015-03-31    655      0   1563      0   1487      0   4121    869   2479   \n",
       "2015-04-30    604      0   1847      0   1493      0   4043    812   2130   \n",
       "2015-05-31    637      0   1680      0   1522    862   4161    989   2479   \n",
       "\n",
       "            11     ...    60118  60119  60120  60123  60124  60125  60133  \\\n",
       "2015-01-31     18  ...      374    590    230    437   1164    632    363   \n",
       "2015-02-28     28  ...      607    465    203    454   1077    539    320   \n",
       "2015-03-31     28  ...      391    463    222    525   1315    626    406   \n",
       "2015-04-30     13  ...      352    453    221    486   1234    952    313   \n",
       "2015-05-31     46  ...      518    529    246    437   1181    905    205   \n",
       "\n",
       "            60142  60143  76639  \n",
       "2015-01-31    887    718     39  \n",
       "2015-02-28    798    595     64  \n",
       "2015-03-31   1956    689     92  \n",
       "2015-04-30    876    757     85  \n",
       "2015-05-31    837    672     92  \n",
       "\n",
       "[5 rows x 10236 columns]"
      ]
     },
     "execution_count": 4,
     "metadata": {},
     "output_type": "execute_result"
    }
   ],
   "source": [
    "gas_dataframe = None\n",
    "gas_prod_dfs = []\n",
    "for year in range(1987, 2016):\n",
    "    print(year)\n",
    "    if year != 1994:\n",
    "        gas_data = {}\n",
    "        filter_col = [col for col in list(production_data[year]) if col.startswith('GAS')]\n",
    "        yearly_prod_data = production_data[year]\n",
    "        for i in range(1, len(yearly_prod_data.index)):\n",
    "            row = yearly_prod_data.iloc[[i]]\n",
    "            api_num = row[\"API_NUMBER\"].values.astype(np.int32)[0]\n",
    "            pdata = filter_data(row[filter_col].values[0])\n",
    "            gas_data[api_num] = pdata\n",
    "        months = pd.date_range(start=str(year)+'-01-01', periods=12, freq='M')\n",
    "        gas_dataframe = pd.DataFrame.from_dict(gas_data)\n",
    "        gas_dataframe = gas_dataframe.set_index(months) \n",
    "        gas_prod_dfs.append(gas_dataframe)\n",
    "gas_dataframe.head()"
   ]
  },
  {
   "cell_type": "code",
   "execution_count": 5,
   "metadata": {
    "collapsed": false
   },
   "outputs": [],
   "source": [
    "gas_all_df = pd.concat(gas_prod_dfs).fillna(0)"
   ]
  },
  {
   "cell_type": "code",
   "execution_count": 6,
   "metadata": {
    "collapsed": true
   },
   "outputs": [],
   "source": [
    "gas_all_df.to_hdf('../processed/gas/gas_data.h5','table', mode=\"w\")"
   ]
  },
  {
   "cell_type": "code",
   "execution_count": 7,
   "metadata": {
    "collapsed": false
   },
   "outputs": [],
   "source": [
    "num_elements = []\n",
    "zero_elements = 0\n",
    "for column in gas_all_df:\n",
    "    col = gas_all_df[column]\n",
    "    try:\n",
    "        num = col[(col!=0) | (col != 0.0)]\n",
    "        num_elements.append(len(num))\n",
    "    except ValueError:\n",
    "        zero_elements+=1"
   ]
  },
  {
   "cell_type": "code",
   "execution_count": 8,
   "metadata": {
    "collapsed": false
   },
   "outputs": [
    {
     "name": "stdout",
     "output_type": "stream",
     "text": [
      "163.848445908 0\n"
     ]
    }
   ],
   "source": [
    "print(np.mean(num_elements), zero_elements)"
   ]
  },
  {
   "cell_type": "code",
   "execution_count": 9,
   "metadata": {
    "collapsed": false
   },
   "outputs": [
    {
     "name": "stdout",
     "output_type": "stream",
     "text": [
      "319\n"
     ]
    }
   ],
   "source": [
    "print(np.max(num_elements))"
   ]
  },
  {
   "cell_type": "code",
   "execution_count": 10,
   "metadata": {
    "collapsed": false
   },
   "outputs": [
    {
     "data": {
      "text/plain": [
       "(array([ 1318.,   372.,   337.,   306.,   383.,   489.,   556.,   527.,\n",
       "          543.,   505.,   572.,   731.,   792.,   892.,  1028.,   943.,\n",
       "          729.,   655.,   627.,   146.]),\n",
       " array([   0.  ,   15.95,   31.9 ,   47.85,   63.8 ,   79.75,   95.7 ,\n",
       "         111.65,  127.6 ,  143.55,  159.5 ,  175.45,  191.4 ,  207.35,\n",
       "         223.3 ,  239.25,  255.2 ,  271.15,  287.1 ,  303.05,  319.  ]),\n",
       " <a list of 20 Patch objects>)"
      ]
     },
     "execution_count": 10,
     "metadata": {},
     "output_type": "execute_result"
    },
    {
     "data": {
      "image/png": "[encoded data removed]",
      "text/plain": [
       "<matplotlib.figure.Figure at 0x2706953bba8>"
      ]
     },
     "metadata": {},
     "output_type": "display_data"
    }
   ],
   "source": [
    "import matplotlib.pyplot as plt\n",
    "%matplotlib inline\n",
    "fig, ax = plt.subplots(1,1)\n",
    "ax.hist(num_elements, bins=20)"
   ]
  },
  {
   "cell_type": "code",
   "execution_count": 21,
   "metadata": {
    "collapsed": false
   },
   "outputs": [],
   "source": [
    "def get_col_length(df, length):\n",
    "    for column in df:\n",
    "        col = df[column]\n",
    "        try:\n",
    "            num = col[(col!=0) | (col != 0.0)]\n",
    "            if len(num) is length:\n",
    "                return column, col\n",
    "        except:\n",
    "            pass"
   ]
  },
  {
   "cell_type": "code",
   "execution_count": 27,
   "metadata": {
    "collapsed": false
   },
   "outputs": [
    {
     "data": {
      "text/plain": [
       "<matplotlib.axes._subplots.AxesSubplot at 0x27027809ba8>"
      ]
     },
     "execution_count": 27,
     "metadata": {},
     "output_type": "execute_result"
    },
    {
     "data": {
      "image/png": "[encoded data removed]",
      "text/plain": [
       "<matplotlib.figure.Figure at 0x270278412b0>"
      ]
     },
     "metadata": {},
     "output_type": "display_data"
    }
   ],
   "source": [
    "api_num, get_col = get_col_length(gas_all_df, 250)\n",
    "num = get_col[(get_col!=0) | (get_col != 0.0)]\n",
    "fig, ax = plt.subplots(1,1)\n",
    "num.plot(ax=ax)"
   ]
  },
  {
   "cell_type": "code",
   "execution_count": null,
   "metadata": {
    "collapsed": true
   },
   "outputs": [],
   "source": []
  }
 ],
 "metadata": {
  "anaconda-cloud": {},
  "kernelspec": {
   "display_name": "Python [default]",
   "language": "python",
   "name": "python3"
  },
  "language_info": {
   "codemirror_mode": {
    "name": "ipython",
    "version": 3
   },
   "file_extension": ".py",
   "mimetype": "text/x-python",
   "name": "python",
   "nbconvert_exporter": "python",
   "pygments_lexer": "ipython3",
   "version": "3.5.2"
  }
 },
 "nbformat": 4,
 "nbformat_minor": 1
}
